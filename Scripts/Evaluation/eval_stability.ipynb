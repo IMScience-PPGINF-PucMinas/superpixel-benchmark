{
 "cells": [
  {
   "cell_type": "code",
   "execution_count": 1,
   "metadata": {},
   "outputs": [],
   "source": [
    "import pandas as pd\n",
    "import os.path"
   ]
  },
  {
   "cell_type": "code",
   "execution_count": 2,
   "metadata": {},
   "outputs": [],
   "source": [
    "DATASETS = ['Birds', 'Sky', 'ECSSD', 'Insects', 'NYUV2']\n",
    "\n",
    "METHODS = ['AINET', 'CRS', 'DISF', 'DRW', 'ERGC', 'ETPS', 'GMMSP', \n",
    "           'GRID', 'IBIS', 'ISF', 'LSC', 'RSS', 'SCALP', \n",
    "           'SH', 'SICLE', 'SIN', 'SLIC', 'SNIC', 'SSFCN',\n",
    "           'DAL-HERS', 'ERS', 'LNSNet', 'ODISF', 'SEEDS']\n",
    "\n",
    "SPXS = [25,50,75,100,200,300,400,500,600,700,800,900,1000]\n",
    "METRICS = ['BR', 'UE', 'EV', 'SIRS']\n",
    "\n",
    "OUTPUT_PATH=\"../../RESULTS/Eval\"\n",
    "INPUT_PATH=\"../../RESULTS/Eval\"\n",
    "\n",
    "# methods that generate unconnected superpixels, we evaluated stability after enforcing connectivity.\n",
    "ENFORCED_CONNECTIVITY_METHODS = ['CRS', 'SEEDS', 'LNSNet', 'DRW']\n",
    "ENFORCED_CONNECTIVITY_INPUT = INPUT_PATH + '/EnforcedConnectivity'\n",
    "ENFORCED_CONNECTIVITY_OUTPUT = OUTPUT_PATH + '/EnforcedConnectivity'\n",
    "\n",
    "# To enforce connectivity, execute run_eval_enforceConnectivity.sh or run_eval_manual_enforceConnectivity.sh"
   ]
  },
  {
   "cell_type": "code",
   "execution_count": 3,
   "metadata": {},
   "outputs": [],
   "source": [
    "for dataset in DATASETS:\n",
    "    for method in METHODS:\n",
    "        for metric in METRICS:\n",
    "\n",
    "          # get min / max / std\n",
    "          data = pd.DataFrame({'spx' : [], 'min' : [], 'std' : [], 'max' : []})\n",
    "\n",
    "          # load data\n",
    "          for num_superpixel in SPXS:\n",
    "\n",
    "            if method in ENFORCED_CONNECTIVITY_METHODS and metric != 'Connectivity' and metric != 'SuperpixelNumber':\n",
    "                input_file = ENFORCED_CONNECTIVITY_INPUT + '/' +method+'/'+dataset+'/'+metric+'/'+method+'-'+str(num_superpixel)+'.txt'\n",
    "            else:\n",
    "              input_file = INPUT_PATH + '/' +method+'/'+dataset+'/'+metric+'/'+method+'-'+str(num_superpixel)+'.txt'\n",
    "\n",
    "            data_imgs = pd.read_csv(input_file, sep=\" \")\n",
    "            data_imgs.columns = [\"Image\", \"Superpixels\", \"Score\"]\n",
    "            \n",
    "            values = {'spx': data_imgs[\"Superpixels\"].mean(),\n",
    "                      'min': data_imgs['Score'].min(),\n",
    "                      'std': data_imgs['Score'].std(),\n",
    "                      'max': data_imgs['Score'].max()}\n",
    "            \n",
    "            data = pd.concat([data, pd.DataFrame({\n",
    "                      'spx': [data_imgs[\"Superpixels\"].mean()],\n",
    "                      'min': [data_imgs['Score'].min()],\n",
    "                      'std': [data_imgs['Score'].std()],\n",
    "                      'max': [data_imgs['Score'].max()]})], ignore_index=True)\n",
    "\n",
    "          # save data\n",
    "          for stab_type in ['min', 'max', 'std']:\n",
    "\n",
    "            output_file = OUTPUT_PATH + '/stability/'+ stab_type\n",
    "            \n",
    "            if not os.path.exists(output_file):\n",
    "              os.makedirs(output_file)\n",
    "            output_file = output_file+'/'+method+'-'+dataset+'-'+metric+'.txt'\n",
    "            \n",
    "            save = pd.DataFrame({'spx' : data['spx'], stab_type : data[stab_type]})\n",
    "            save.to_csv(output_file, header=['K', 'VALOR'], index=None, sep=' ', mode='w')"
   ]
  }
 ],
 "metadata": {
  "kernelspec": {
   "display_name": "Python 3",
   "language": "python",
   "name": "python3"
  },
  "language_info": {
   "codemirror_mode": {
    "name": "ipython",
    "version": 3
   },
   "file_extension": ".py",
   "mimetype": "text/x-python",
   "name": "python",
   "nbconvert_exporter": "python",
   "pygments_lexer": "ipython3",
   "version": "3.10.12"
  },
  "orig_nbformat": 4,
  "vscode": {
   "interpreter": {
    "hash": "916dbcbb3f70747c44a77c7bcd40155683ae19c65e1c03b4aa3499c5328201f1"
   }
  }
 },
 "nbformat": 4,
 "nbformat_minor": 2
}
