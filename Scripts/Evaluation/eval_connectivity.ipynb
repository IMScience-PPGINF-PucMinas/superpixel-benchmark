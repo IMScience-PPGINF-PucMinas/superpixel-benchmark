{
 "cells": [
  {
   "cell_type": "code",
   "execution_count": 1,
   "metadata": {},
   "outputs": [],
   "source": [
    "import pandas as pd\n",
    "import os.path"
   ]
  },
  {
   "cell_type": "code",
   "execution_count": 3,
   "metadata": {},
   "outputs": [],
   "source": [
    "DATASETS = ['Birds', 'Sky', 'ECSSD', 'Insects', 'NYUV2']\n",
    "\n",
    "METHODS = ['AINET', 'CRS', 'DISF', 'DRW', 'ERGC', 'ETPS', 'GMMSP', \n",
    "           'GRID', 'IBIS', 'ISF', 'LSC', 'RSS', 'SCALP', \n",
    "           'SH', 'SICLE', 'SIN', 'SLIC', 'SNIC', 'SSFCN',\n",
    "           'DAL-HERS', 'ERS', 'LNSNet', 'ODISF', 'SEEDS']\n",
    "\n",
    "INPUT_CONNECTIVITY_PATH, INPUT_SPX_NUMBER_PATH = {}, {}\n",
    "for dataset in DATASETS:\n",
    "    INPUT_CONNECTIVITY_PATH[dataset], INPUT_SPX_NUMBER_PATH[dataset] = {}, {}\n",
    "    for method in METHODS:\n",
    "      INPUT_CONNECTIVITY_PATH[dataset][method] = '../../RESULTS/Eval/'+method+'/'+dataset+'/Connectivity/'+method+'-'+dataset+'-Connectivity.txt'\n",
    "      INPUT_SPX_NUMBER_PATH[dataset][method] = '../../RESULTS/Eval/'+method+'/'+dataset+'/SuperpixelNumber/'+method+'-'+dataset+'-SuperpixelNumber.txt'\n",
    "\n",
    "OUTPUT_PATH=\"../../RESULTS/Eval/Connectivity/\"\n"
   ]
  },
  {
   "cell_type": "code",
   "execution_count": 4,
   "metadata": {},
   "outputs": [],
   "source": [
    "for dataset in DATASETS:\n",
    "  for method in METHODS:\n",
    "          \n",
    "      df_connec = pd.read_csv(INPUT_CONNECTIVITY_PATH[dataset][method], sep=\" \")\n",
    "      df_connec.columns = ['Spx', 'ConnectedSpx']\n",
    "\n",
    "      df_generated = pd.read_csv(INPUT_SPX_NUMBER_PATH[dataset][method], sep=\" \")\n",
    "      df_generated.columns = ['SpxDesired', 'Spx']\n",
    "\n",
    "      connected_spx = df_connec['ConnectedSpx'].tolist()\n",
    "      generated_spx = df_connec['Spx'].tolist()\n",
    "\n",
    "      unconnected_spx = []\n",
    "      for i in range(len(connected_spx)):\n",
    "        unconnected_spx.append(connected_spx[i] - generated_spx[i])\n",
    "          \n",
    "      df_out_generated = pd.DataFrame(data={'SpxDesired': df_generated['SpxDesired'].tolist(), 'Spx': generated_spx})\n",
    "      df_out_unconnected = pd.DataFrame(data={'Spx': generated_spx, 'SpxUnconnexted': unconnected_spx})\n",
    "\n",
    "      if not os.path.exists(OUTPUT_PATH):\n",
    "        os.mkdir(OUTPUT_PATH)\n",
    "\n",
    "      df_out_generated.to_csv(OUTPUT_PATH+'/'+method+'-'+dataset+'-generated.txt', header=['K', 'VALOR'], index=None, sep=' ', mode='w')\n",
    "      df_out_unconnected.to_csv(OUTPUT_PATH+'/'+method+'-'+dataset+'-notConnected.txt', header=['K', 'VALOR'], index=None, sep=' ', mode='w')"
   ]
  }
 ],
 "metadata": {
  "kernelspec": {
   "display_name": "Python 3",
   "language": "python",
   "name": "python3"
  },
  "language_info": {
   "codemirror_mode": {
    "name": "ipython",
    "version": 3
   },
   "file_extension": ".py",
   "mimetype": "text/x-python",
   "name": "python",
   "nbconvert_exporter": "python",
   "pygments_lexer": "ipython3",
   "version": "3.10.12"
  },
  "orig_nbformat": 4
 },
 "nbformat": 4,
 "nbformat_minor": 2
}
