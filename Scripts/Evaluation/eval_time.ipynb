{
 "cells": [
  {
   "cell_type": "code",
   "execution_count": 1,
   "metadata": {},
   "outputs": [],
   "source": [
    "import pandas as pd\n",
    "import os.path"
   ]
  },
  {
   "cell_type": "code",
   "execution_count": 2,
   "metadata": {},
   "outputs": [],
   "source": [
    "DATASETS = ['Birds', 'Sky', 'ECSSD', 'Insects', 'NYUV2']\n",
    "\n",
    "METHODS = ['AINET', 'CRS', 'DISF', 'DRW', 'ERGC', 'ETPS', 'GMMSP', \n",
    "           'GRID', 'IBIS', 'ISF', 'LSC', 'RSS', 'SCALP', \n",
    "           'SH', 'SICLE', 'SIN', 'SLIC', 'SNIC', 'SSFCN',\n",
    "           'DAL-HERS', 'ERS', 'LNSNet', 'ODISF', 'SEEDS']\n",
    "\n",
    "INPUT_TIME_PATH, INPUT_CONNECTIVITY_PATH = {}, {}\n",
    "for dataset in DATASETS:\n",
    "    INPUT_TIME_PATH[dataset],INPUT_CONNECTIVITY_PATH[dataset] = {},{}\n",
    "    for method in METHODS:\n",
    "      INPUT_TIME_PATH[dataset][method] = '../../RESULTS/Eval/'+method+'/'+dataset+'/time/'+method+'-'+dataset+'-time.txt'\n",
    "      INPUT_CONNECTIVITY_PATH[dataset][method] = '../../RESULTS/Eval/'+method+'/'+dataset+'/Connectivity/'+method+'-'+dataset+'-Connectivity.txt'\n",
    "\n",
    "OUTPUT_PATH=\"../../RESULTS/Eval/Time\"\n",
    "\n",
    "# for time plots, we got the number of superpixels generated, not the desired one"
   ]
  },
  {
   "cell_type": "code",
   "execution_count": 9,
   "metadata": {},
   "outputs": [],
   "source": [
    "for dataset in DATASETS:\n",
    "    for method in METHODS:\n",
    "          \n",
    "        df_time = pd.read_csv(INPUT_TIME_PATH[dataset][method], sep=\" \", header=None)\n",
    "        df_time.columns = ['Spx', 'Time']\n",
    "\n",
    "        df_connec = pd.read_csv(INPUT_CONNECTIVITY_PATH[dataset][method], sep=\" \")\n",
    "        df_connec.columns = ['Spx', 'ConnectedSpx']\n",
    "\n",
    "        if(len(df_connec['Spx'].tolist()) != len(df_time['Time'].tolist())):\n",
    "            print(dataset, method, len(df_connec['Spx'].tolist()), len(df_time['Time'].tolist()))\n",
    "        \n",
    "        df_out = pd.DataFrame(data={'K':df_connec['Spx'].tolist(), 'VALOR':df_time['Time'].tolist()})\n",
    "\n",
    "        if not os.path.exists(OUTPUT_PATH):\n",
    "            os.makedir(OUTPUT_PATH)\n",
    "        df_out.to_csv(OUTPUT_PATH+'/'+method+'-'+dataset+'-time.txt', index=False, sep=' ')"
   ]
  }
 ],
 "metadata": {
  "kernelspec": {
   "display_name": "Python 3",
   "language": "python",
   "name": "python3"
  },
  "language_info": {
   "codemirror_mode": {
    "name": "ipython",
    "version": 3
   },
   "file_extension": ".py",
   "mimetype": "text/x-python",
   "name": "python",
   "nbconvert_exporter": "python",
   "pygments_lexer": "ipython3",
   "version": "3.10.12"
  },
  "orig_nbformat": 4
 },
 "nbformat": 4,
 "nbformat_minor": 2
}
