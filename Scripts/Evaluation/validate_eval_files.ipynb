{
 "cells": [
  {
   "cell_type": "code",
   "execution_count": 1,
   "metadata": {},
   "outputs": [],
   "source": [
    "import pandas as pd\n",
    "import os.path"
   ]
  },
  {
   "cell_type": "code",
   "execution_count": 2,
   "metadata": {},
   "outputs": [],
   "source": [
    "# Check if all files are present\n",
    "\n",
    "DATASETS = ['NYUV2', 'Birds', 'Insects', 'Sky', 'ECSSD']\n",
    "NUMBER_OF_IMAGES = {'NYUV2': 1449, 'Birds':150, 'Insects':130, 'Sky':60, 'ECSSD':1000}\n",
    "\n",
    "METHODS = ['AINET', 'CRS', 'DISF', 'DRW', 'ERGC', 'ETPS', 'GMMSP', \n",
    "           'GRID', 'IBIS', 'ISF', 'LSC', 'RSS', 'SCALP', \n",
    "           'SH', 'SICLE', 'SIN', 'SLIC', 'SNIC', 'SSFCN',\n",
    "           'DAL-HERS', 'ERS', 'LNSNet', 'ODISF', 'SEEDS']\n",
    "\n",
    "SPXS = [25,50,75,100,200,300,400,500,600,700,800,900,1000]\n",
    "METRICS = ['BR', 'UE', 'EV', 'SIRS', 'CO', 'Connectivity', 'SuperpixelNumber']\n",
    "\n",
    "OUTPUT_PATH=\"../../RESULTS/Eval\"\n",
    "INPUT_PATH=\"../../RESULTS/Eval\"\n",
    "\n",
    "# methods that generate unconnected superpixels, we evaluated stability after enforcing connectivity.\n",
    "ENFORCED_CONNECTIVITY_METHODS = ['CRS', 'SEEDS', 'LNSNet', 'DRW']\n",
    "ENFORCED_CONNECTIVITY_INPUT = INPUT_PATH + '/EnforcedConnectivity'\n",
    "ENFORCED_CONNECTIVITY_OUTPUT = OUTPUT_PATH + '/EnforcedConnectivity'\n",
    "\n",
    "# To enforce connectivity, execute run_eval_enforceConnectivity.sh or run_eval_manual_enforceConnectivity.sh"
   ]
  },
  {
   "cell_type": "code",
   "execution_count": 4,
   "metadata": {},
   "outputs": [],
   "source": [
    "for dataset in DATASETS:\n",
    "    for method in METHODS:\n",
    "        for metric in METRICS:\n",
    "\n",
    "          if method == 'GRID' and (metric == 'Connectivity' or metric == 'SuperpixelNumber'):\n",
    "            continue\n",
    "\n",
    "          # load data\n",
    "          for num_superpixel in SPXS:\n",
    "\n",
    "            if method in ENFORCED_CONNECTIVITY_METHODS and metric != 'Connectivity' and metric != 'SuperpixelNumber':\n",
    "                input_file = ENFORCED_CONNECTIVITY_INPUT + '/' +method+'/'+dataset+'/'+metric+'/'+method+'-'+str(num_superpixel)+'.txt'\n",
    "            else:\n",
    "              input_file = INPUT_PATH + '/' +method+'/'+dataset+'/'+metric+'/'+method+'-'+str(num_superpixel)+'.txt'\n",
    "\n",
    "            data_imgs = pd.read_csv(input_file, sep=\" \")\n",
    "            data_imgs.columns = [\"Image\", \"Superpixels\", \"Score\"]\n",
    "            \n",
    "            if(len(data_imgs[\"Superpixels\"].tolist()) != NUMBER_OF_IMAGES[dataset]):\n",
    "              print(metric, num_superpixel, method, dataset, metric, len(data_imgs['Superpixels'].tolist()))\n",
    "\n",
    "          if method in ENFORCED_CONNECTIVITY_METHODS and metric != 'Connectivity' and metric != 'SuperpixelNumber':\n",
    "                input_file = ENFORCED_CONNECTIVITY_INPUT + '/' +method+'/'+dataset+'/'+metric+'/'+method+'-'+dataset+'-'+metric+'.txt'\n",
    "          else:\n",
    "            input_file = INPUT_PATH + '/' +method+'/'+dataset+'/'+metric+'/'+method+'-'+dataset+'-'+metric+'.txt'\n",
    "\n",
    "          data_imgs = pd.read_csv(input_file, sep=\" \")\n",
    "          data_imgs.columns = [\"Superpixels\", \"Score\"]\n",
    "\n",
    "          if(len(data_imgs[\"Superpixels\"].tolist()) != len(SPXS)):\n",
    "              print(metric, method, dataset, metric, len(data_imgs['Superpixels'].tolist()))\n"
   ]
  }
 ],
 "metadata": {
  "kernelspec": {
   "display_name": "Python 3",
   "language": "python",
   "name": "python3"
  },
  "language_info": {
   "codemirror_mode": {
    "name": "ipython",
    "version": 3
   },
   "file_extension": ".py",
   "mimetype": "text/x-python",
   "name": "python",
   "nbconvert_exporter": "python",
   "pygments_lexer": "ipython3",
   "version": "3.10.12"
  },
  "orig_nbformat": 4
 },
 "nbformat": 4,
 "nbformat_minor": 2
}
