{
 "cells": [
  {
   "cell_type": "code",
   "execution_count": 4,
   "metadata": {},
   "outputs": [],
   "source": [
    "import pandas as pd\n",
    "import os.path"
   ]
  },
  {
   "cell_type": "code",
   "execution_count": 17,
   "metadata": {},
   "outputs": [],
   "source": [
    "DATASETS = ['Birds']\n",
    "\n",
    "METHODS = ['AINET', 'CRS', 'DISF', 'DRW', 'ERGC', 'ETPS', 'GMMSP', \n",
    "           'IBIS', 'ISF', 'LSC', 'RSS', 'SCALP', 'SH', 'SICLE', \n",
    "           'SIN', 'SLIC', 'SNIC', 'SSFCN',\n",
    "           'DAL-HERS', 'ERS', 'LNSNet', 'ODISF', 'SEEDS'\n",
    "           ]\n",
    "\n",
    "METRICS = ['BR', 'UE', 'SIRS', 'EV', 'SuperpixelNumber']\n",
    "NOISE = ['salt_pepper', 'avgblur']\n",
    "NOISE_INTENSITY = {'salt_pepper': [0.04,0.08,0.12,0.16], 'avgblur': [5,9,13,17]}\n",
    "\n",
    "OUTPUT_PATH=\"../../RESULTS/Eval/Robustness\"\n",
    "INPUT_PATH=\"../../RESULTS/Eval\" "
   ]
  },
  {
   "cell_type": "code",
   "execution_count": 19,
   "metadata": {},
   "outputs": [],
   "source": [
    "for dataset in DATASETS:\n",
    "  for method in METHODS:\n",
    "    for metric in METRICS:\n",
    "\n",
    "      for noise in NOISE:  \n",
    "\n",
    "        df_out = pd.DataFrame(columns=['Noise', 'Score'])  \n",
    "\n",
    "        for intensity in NOISE_INTENSITY[noise]:\n",
    "\n",
    "          input = INPUT_PATH+'/'+method+'/'+dataset+'/Robustness/'+noise+'/'+str(intensity)+'/'+metric+'/'+method+'-'+dataset+'-'+metric+'.txt'\n",
    "          df_input = pd.read_csv(input, sep=\" \")\n",
    "          \n",
    "          if(metric != 'SuperpixelNumber'):  \n",
    "            df_input.columns = ['Spx', 'Score']\n",
    "            df_out = pd.concat([df_out, pd.DataFrame({'Noise': [intensity], \n",
    "                                                'Score': [df_input['Score'].mean()]})\n",
    "                                                ], ignore_index=True)\n",
    "          else:\n",
    "            df_input.columns = ['DesiredSpx', 'GeneratedSpx']\n",
    "            df_out = pd.concat([df_out, pd.DataFrame({'Noise': [intensity], \n",
    "                                                'Score': [df_input['GeneratedSpx'].mean()]})\n",
    "                                                ], ignore_index=True)\n",
    "\n",
    "        output = OUTPUT_PATH+'/'+noise+'/'\n",
    "        if not os.path.exists(output):\n",
    "          os.mkdir(output)\n",
    "        df_out.to_csv(output+'/'+method+'-'+dataset+'-'+metric+'.txt', header=['K', 'VALOR'], index=None, sep=' ', mode='w')\n",
    "      "
   ]
  }
 ],
 "metadata": {
  "kernelspec": {
   "display_name": "Python 3",
   "language": "python",
   "name": "python3"
  },
  "language_info": {
   "codemirror_mode": {
    "name": "ipython",
    "version": 3
   },
   "file_extension": ".py",
   "mimetype": "text/x-python",
   "name": "python",
   "nbconvert_exporter": "python",
   "pygments_lexer": "ipython3",
   "version": "3.10.12"
  },
  "orig_nbformat": 4
 },
 "nbformat": 4,
 "nbformat_minor": 2
}
