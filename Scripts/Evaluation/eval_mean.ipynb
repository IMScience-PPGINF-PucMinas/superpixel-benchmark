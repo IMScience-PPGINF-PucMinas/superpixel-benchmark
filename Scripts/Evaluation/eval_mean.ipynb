{
 "cells": [
  {
   "cell_type": "code",
   "execution_count": 11,
   "metadata": {},
   "outputs": [],
   "source": [
    "import pandas as pd\n",
    "import os.path"
   ]
  },
  {
   "cell_type": "code",
   "execution_count": 15,
   "metadata": {},
   "outputs": [],
   "source": [
    "DATASETS = ['Birds', 'Sky', 'ECSSD', 'Insects', 'NYUV2']\n",
    "\n",
    "METHODS = ['AINET', 'CRS', 'DISF', 'DRW', 'ERGC', 'ETPS', 'GMMSP', \n",
    "           'GRID', 'IBIS', 'ISF', 'LSC', 'RSS', 'SCALP', \n",
    "           'SH', 'SICLE', 'SIN', 'SLIC', 'SNIC', 'SSFCN',\n",
    "           'DAL-HERS', 'ERS', 'LNSNet', 'ODISF', 'SEEDS']\n",
    "\n",
    "METRICS = ['BR', 'UE', 'EV', 'SIRS', 'CO', 'Connectivity', 'SuperpixelNumber']\n",
    "\n",
    "OUTPUT_PATH=\"../../RESULTS/Eval/Mean\"\n",
    "INPUT_CONNECTIVITY_PATH=\"../../RESULTS/Eval\" \n",
    "INPUT_MEAN_PATH=\"../../RESULTS/Eval\" \n",
    "\n",
    "# methods that generate unconnected superpixels, we evaluated stability after enforcing connectivity.\n",
    "ENFORCED_CONNECTIVITY_METHODS = ['CRS', 'SEEDS', 'LNSNet', 'DRW']\n",
    "ENFORCED_CONNECTIVITY_INPUT = INPUT_CONNECTIVITY_PATH + '/EnforcedConnectivity'\n",
    "ENFORCED_CONNECTIVITY_OUTPUT = OUTPUT_PATH + '/EnforcedConnectivity'\n",
    "\n",
    "# To enforce connectivity, execute run_eval_enforceConnectivity.sh or run_eval_manual_enforceConnectivity.sh"
   ]
  },
  {
   "cell_type": "code",
   "execution_count": 16,
   "metadata": {},
   "outputs": [],
   "source": [
    "for dataset in DATASETS:\n",
    "  for method in METHODS:\n",
    "    for metric in METRICS:\n",
    "\n",
    "      if method in ENFORCED_CONNECTIVITY_METHODS:\n",
    "        input_connectivity = INPUT_MEAN_PATH + '/' +method+'/'+dataset+'/SuperpixelNumber/'+method+'-'+dataset+'-Connectivity.txt'\n",
    "        input = ENFORCED_CONNECTIVITY_INPUT+'/'+method+'/'+dataset+'/'+metric+'/'+method+'-'+dataset+'-'+metric+'.txt'\n",
    "      else:\n",
    "        input_connectivity = INPUT_CONNECTIVITY_PATH + '/'+method+'/'+dataset+'/SuperpixelNumber/'+method+'-'+dataset+'-Connectivity.txt'\n",
    "        input = INPUT_MEAN_PATH+'/'+method+'/'+dataset+'/'+metric+'/'+method+'-'+dataset+'-'+metric+'.txt'\n",
    "\n",
    "      df_input = pd.read_csv(input, sep=\" \")\n",
    "      df_input.columns = ['Spx', 'Score']\n",
    "\n",
    "      df_connec = pd.read_csv(input_connectivity, sep=\" \")\n",
    "      df_connec.columns = ['DesiredSpx', 'GeneratedSpx']\n",
    "          \n",
    "      df_out = pd.DataFrame(data={'Spx': df_connec['DesiredSpx'].tolist(), 'Score': df_input['Score']})\n",
    "\n",
    "      if not os.path.exists(OUTPUT_PATH):\n",
    "        os.mkdir(OUTPUT_PATH)\n",
    "\n",
    "      df_out.to_csv(OUTPUT_PATH+'/'+method+'-'+dataset+'-'+metric+'.txt', header=['K', 'VALOR'], index=None, sep=' ', mode='w')\n",
    "      "
   ]
  }
 ],
 "metadata": {
  "kernelspec": {
   "display_name": "Python 3",
   "language": "python",
   "name": "python3"
  },
  "language_info": {
   "codemirror_mode": {
    "name": "ipython",
    "version": 3
   },
   "file_extension": ".py",
   "mimetype": "text/x-python",
   "name": "python",
   "nbconvert_exporter": "python",
   "pygments_lexer": "ipython3",
   "version": "3.10.12"
  },
  "orig_nbformat": 4
 },
 "nbformat": 4,
 "nbformat_minor": 2
}
